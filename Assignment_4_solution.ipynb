{
 "cells": [
  {
   "cell_type": "markdown",
   "id": "9119243c",
   "metadata": {},
   "source": [
    "#1. The empty list represented by [ ] is a list that contains no items. This is similar to \" \" which represents an empty string."
   ]
  },
  {
   "cell_type": "code",
   "execution_count": 1,
   "id": "bbd53cf9",
   "metadata": {},
   "outputs": [
    {
     "name": "stdout",
     "output_type": "stream",
     "text": [
      "Values of a: []\n",
      "Type of a: <class 'list'>\n",
      "Size of a: 0\n"
     ]
    }
   ],
   "source": [
    "# Python program to declare empty list\n",
    "\n",
    "# list is declared\n",
    "a = []\n",
    "\n",
    "print(\"Values of a:\", a)\n",
    "print(\"Type of a:\", type(a))\n",
    "print(\"Size of a:\", len(a))"
   ]
  },
  {
   "cell_type": "markdown",
   "id": "74aaa59b",
   "metadata": {},
   "source": [
    "#2. spam[2]='hello'."
   ]
  },
  {
   "cell_type": "code",
   "execution_count": 2,
   "id": "d81cca2c",
   "metadata": {},
   "outputs": [
    {
     "name": "stdout",
     "output_type": "stream",
     "text": [
      "[2, 4, 6, 8, 10]\n",
      "[2, 4, 'hello', 8, 10]\n"
     ]
    }
   ],
   "source": [
    "# Example\n",
    "spam=[2,4,6,8,10]\n",
    "print(spam)\n",
    "spam[2]='hello' #List uses zero based indexing\n",
    "print(spam)"
   ]
  },
  {
   "cell_type": "markdown",
   "id": "a7ec7f8e",
   "metadata": {},
   "source": [
    "# Let's pretend the spam includes the list ['a','b','c',d'] for the next three queries."
   ]
  },
  {
   "cell_type": "markdown",
   "id": "c4f8a2d3",
   "metadata": {},
   "source": [
    "#3. 'd'.('3' * 2 is the string '33', which is passed to int() before being divided by 11. This eventually evaluates to 3, spam[3] is equal to \"d\".)"
   ]
  },
  {
   "cell_type": "code",
   "execution_count": 3,
   "id": "77cdf40b",
   "metadata": {},
   "outputs": [
    {
     "name": "stdout",
     "output_type": "stream",
     "text": [
      "spam[int(int('3'*2)//11)] -> d\n"
     ]
    }
   ],
   "source": [
    "spam=['a','b','c','d']\n",
    "print(\"spam[int(int('3'*2)//11)] ->\",spam[int(int('3'*2)//11)])"
   ]
  },
  {
   "cell_type": "markdown",
   "id": "468ab608",
   "metadata": {},
   "source": [
    "#4. 'd' (Lists support Negative indexing, Hence spam[-1] returs 'd'). -1 index returns last item of the list."
   ]
  },
  {
   "cell_type": "code",
   "execution_count": 4,
   "id": "2cde08a8",
   "metadata": {},
   "outputs": [
    {
     "name": "stdout",
     "output_type": "stream",
     "text": [
      "spam[-1] ->  d\n"
     ]
    }
   ],
   "source": [
    "spam=['a','b','c','d']\n",
    "print('spam[-1] -> ',spam[-1])"
   ]
  },
  {
   "cell_type": "markdown",
   "id": "79e1f0bf",
   "metadata": {},
   "source": [
    "#5. spam[:2] returns all elements in the list spam from index 0 to 2 excluding 2."
   ]
  },
  {
   "cell_type": "code",
   "execution_count": 5,
   "id": "e1f113b2",
   "metadata": {},
   "outputs": [
    {
     "name": "stdout",
     "output_type": "stream",
     "text": [
      "['a', 'b', 'c', 'd']\n",
      "['a', 'b']\n"
     ]
    }
   ],
   "source": [
    "print(spam)\n",
    "print(spam[:2])"
   ]
  },
  {
   "cell_type": "markdown",
   "id": "c4ef276b",
   "metadata": {},
   "source": [
    "# Let's pretend bacon has the list [3.14,'cat',11,'cat',True] for the next three question"
   ]
  },
  {
   "cell_type": "markdown",
   "id": "f48fcc51",
   "metadata": {},
   "source": [
    "#6. The value of bacon.index('cat') is 1 (Index method returns the index of first occuerence of 'cat')."
   ]
  },
  {
   "cell_type": "code",
   "execution_count": 6,
   "id": "6ced36bc",
   "metadata": {},
   "outputs": [
    {
     "name": "stdout",
     "output_type": "stream",
     "text": [
      "bacon.index('cat') -> 1\n"
     ]
    }
   ],
   "source": [
    "bacon=[3.14,'cat',11,'cat',True]\n",
    "print(\"bacon.index('cat') ->\",bacon.index('cat'))"
   ]
  },
  {
   "cell_type": "markdown",
   "id": "7e8fe4d3",
   "metadata": {},
   "source": [
    "#7. The append method adds new elements to the end of the list."
   ]
  },
  {
   "cell_type": "code",
   "execution_count": 7,
   "id": "51240a03",
   "metadata": {},
   "outputs": [
    {
     "name": "stdout",
     "output_type": "stream",
     "text": [
      "[3.14, 'cat', 11, 'cat', True]\n",
      "[3.14, 'cat', 11, 'cat', True, 99]\n"
     ]
    }
   ],
   "source": [
    "# Example\n",
    "print(bacon)\n",
    "bacon.append(99) # appends 99 to the end of the list\n",
    "print(bacon)"
   ]
  },
  {
   "cell_type": "markdown",
   "id": "76eb9464",
   "metadata": {},
   "source": [
    " #8. The remove method removes the first occurence of the element in the list."
   ]
  },
  {
   "cell_type": "code",
   "execution_count": 8,
   "id": "20e4700a",
   "metadata": {},
   "outputs": [
    {
     "name": "stdout",
     "output_type": "stream",
     "text": [
      "[3.14, 'cat', 11, 'cat', True, 99]\n",
      "[3.14, 11, 'cat', True, 99]\n"
     ]
    }
   ],
   "source": [
    "print(bacon)\n",
    "bacon.remove('cat')\n",
    "print(bacon)"
   ]
  },
  {
   "cell_type": "markdown",
   "id": "d6ff4648",
   "metadata": {},
   "source": [
    "#9. The operator for list concatenation is +, while the operator for replication is *. (This is the same as for strings.)"
   ]
  },
  {
   "cell_type": "code",
   "execution_count": 9,
   "id": "23ab0c09",
   "metadata": {},
   "outputs": [
    {
     "name": "stdout",
     "output_type": "stream",
     "text": [
      "['ML', 'DL', 'AI', 'CV', 'NLP', 'RNN', 'CNN', 'SVN']\n",
      "['RNN', 'CNN', 'SVN', 'RNN', 'CNN', 'SVN']\n"
     ]
    }
   ],
   "source": [
    "list_1 = ['ML','DL','AI','CV','NLP']\n",
    "list_2 = ['RNN','CNN','SVN']\n",
    "print(list_1 + list_2) # List Concatenation\n",
    "print(list_2*2) # List Replication"
   ]
  },
  {
   "cell_type": "markdown",
   "id": "fab4a219",
   "metadata": {},
   "source": [
    "#10. While append() will add values only to the end of a list, insert() can add them anywhere in the list."
   ]
  },
  {
   "cell_type": "code",
   "execution_count": 10,
   "id": "1b1b2c5f",
   "metadata": {},
   "outputs": [
    {
     "name": "stdout",
     "output_type": "stream",
     "text": [
      "[1, 2, 3, 4, 5, 99]\n",
      "[1, 2, 'iNeuron', 3, 4, 5, 99]\n"
     ]
    }
   ],
   "source": [
    "#Examples\n",
    "list3 = [1,2,3,4,5]\n",
    "list3.append(99)\n",
    "print(list3)\n",
    "list3.insert(2,'iNeuron')\n",
    "print(list3)"
   ]
  },
  {
   "cell_type": "markdown",
   "id": "24be0469",
   "metadata": {},
   "source": [
    "#11. The del statement and the remove() method are two ways to remove values from a list."
   ]
  },
  {
   "cell_type": "code",
   "execution_count": 11,
   "id": "dc70f674",
   "metadata": {},
   "outputs": [
    {
     "data": {
      "text/plain": [
       "[1, 2, 2, 3, 4, 5]"
      ]
     },
     "execution_count": 11,
     "metadata": {},
     "output_type": "execute_result"
    }
   ],
   "source": [
    "# assign list\n",
    "numbers = [1, 2, 3, 2, 3, 4, 5]\n",
    "  \n",
    "# use del\n",
    "del numbers[2]\n",
    "\n",
    "numbers"
   ]
  },
  {
   "cell_type": "code",
   "execution_count": 12,
   "id": "00903a64",
   "metadata": {},
   "outputs": [
    {
     "data": {
      "text/plain": [
       "[1, 2, 2, 3, 4, 5]"
      ]
     },
     "execution_count": 12,
     "metadata": {},
     "output_type": "execute_result"
    }
   ],
   "source": [
    "# assign list\n",
    "numbers1 = [1, 2, 3, 2, 3, 4, 5]\n",
    "  \n",
    "# use remove()\n",
    "numbers1.remove(3)\n",
    "numbers1"
   ]
  },
  {
   "cell_type": "markdown",
   "id": "f482c13a",
   "metadata": {},
   "source": [
    "#12.Below are some reasons how list values and string values are identical:"
   ]
  },
  {
   "cell_type": "raw",
   "id": "9826ace8",
   "metadata": {},
   "source": [
    "i)Both lists and strings can be passed to len() function,\n",
    "\n",
    "ii)Have indexes and slices, be used in for loops,\n",
    "\n",
    "iii)Can be concatenated or replicated,\n",
    "\n",
    "iv)Can be used with the in and not in operators."
   ]
  },
  {
   "cell_type": "markdown",
   "id": "20b7d7c0",
   "metadata": {},
   "source": [
    "#13. Difference between tuples and lists:"
   ]
  },
  {
   "cell_type": "raw",
   "id": "c2c40255",
   "metadata": {},
   "source": [
    "i)Lists are Mutable, Indexable and Slicable. they can have values added, removed, or changed. Tuples are Immutable but Indexable and Slicable. The tuple values cannot be changed at all. \n",
    "\n",
    "ii)Also, tuples are represented using parentheses, (), while lists use the square brackets, []."
   ]
  },
  {
   "cell_type": "code",
   "execution_count": 13,
   "id": "2a6995bd",
   "metadata": {},
   "outputs": [
    {
     "name": "stdout",
     "output_type": "stream",
     "text": [
      "[1, 2, 3, 4]\n",
      "(1, 2, 3, 4)\n",
      "<class 'list'>\n",
      "<class 'tuple'>\n"
     ]
    }
   ],
   "source": [
    "list_num = [1,2,3,4]\n",
    "tup_num = (1,2,3,4)\n",
    "\n",
    "print(list_num)\n",
    "print(tup_num)\n",
    "print(type(list_num))\n",
    "print(type(tup_num))"
   ]
  },
  {
   "cell_type": "markdown",
   "id": "0d0ce35a",
   "metadata": {},
   "source": [
    "#14. (42,) (The trailing comma is mandatory. otherwise its considered as a int by python Interpreter)"
   ]
  },
  {
   "cell_type": "code",
   "execution_count": 14,
   "id": "0a72664a",
   "metadata": {},
   "outputs": [
    {
     "name": "stdout",
     "output_type": "stream",
     "text": [
      "<class 'int'>\n",
      "<class 'tuple'>\n"
     ]
    }
   ],
   "source": [
    "tup1=(42)\n",
    "tup2=(42,)\n",
    "print(type(tup1))\n",
    "print(type(tup2))"
   ]
  },
  {
   "cell_type": "markdown",
   "id": "244a0931",
   "metadata": {},
   "source": [
    "#15. The tuple() and list() functions, respectively are used to convert a list to tuple and vice versa"
   ]
  },
  {
   "cell_type": "code",
   "execution_count": 17,
   "id": "e23d75f6",
   "metadata": {},
   "outputs": [
    {
     "name": "stdout",
     "output_type": "stream",
     "text": [
      "<class 'tuple'>\n"
     ]
    }
   ],
   "source": [
    "list_num = [1,2,3,4]\n",
    "\n",
    "tuple_num = tuple(list_num)\n",
    "\n",
    "print(type(tuple(list_num)))"
   ]
  },
  {
   "cell_type": "code",
   "execution_count": 16,
   "id": "1e05b800",
   "metadata": {},
   "outputs": [
    {
     "name": "stdout",
     "output_type": "stream",
     "text": [
      "[4, 5, 6, 7]\n"
     ]
    }
   ],
   "source": [
    "my_tuple = (4,5,6,7)\n",
    "\n",
    "my_list = list(my_tuple)\n",
    "\n",
    "print(my_list)"
   ]
  },
  {
   "cell_type": "markdown",
   "id": "7d156628",
   "metadata": {},
   "source": [
    "#16. Variables that \"contain\" list values typically store references or pointers to the actual list data in memory, rather than containing the list data directly. These references or pointers allow us to access and manipulate the list's elements without duplicating the entire list.\n",
    "\n",
    "   When we assign a list to a variable, we are essentially storing the memory address of the list in that variable. This is why variables can change the list's contents, and if we assign the same list to multiple variables, they all refer to the same underlying list in memory.\n",
    "\n",
    "Here's a simple example to illustrate this concept:"
   ]
  },
  {
   "cell_type": "code",
   "execution_count": 18,
   "id": "fc516bce",
   "metadata": {},
   "outputs": [
    {
     "name": "stdout",
     "output_type": "stream",
     "text": [
      "[1, 2, 3, 4]\n"
     ]
    }
   ],
   "source": [
    "list1 = [1, 2, 3]\n",
    "list2 = list1  # Both list1 and list2 now refer to the same list in memory\n",
    "\n",
    "list1.append(4)\n",
    "print(list2) \n",
    "##In this example, list1 and list2 both contain references to the same list in memory, \n",
    "##so changes made to one variable also affect the other."
   ]
  },
  {
   "cell_type": "markdown",
   "id": "8a0a96b8",
   "metadata": {},
   "source": [
    "#17.\n",
    "\n",
    "In Python's copy module, both copy.copy() and copy.deepcopy() are used for creating copies of objects, but they behave differently when it comes to nested objects, especially when dealing with mutable objects like lists or dictionaries. Here's how we can distinguish between them:"
   ]
  },
  {
   "cell_type": "markdown",
   "id": "5790d7a2",
   "metadata": {},
   "source": [
    "\"copy.copy()\" (Shallow Copy):\n",
    "\n",
    "i) copy.copy() creates a shallow copy of an object.\n",
    "\n",
    "ii) It creates a new object, but the nested objects within the copied object are still references to the same objects as in the original.\n",
    "\n",
    "iii) Changes made to nested mutable objects within the copied object will affect both the original and the copied object.\n",
    "\n",
    "iv) It does not recursively copy nested objects."
   ]
  },
  {
   "cell_type": "code",
   "execution_count": 20,
   "id": "5eae8864",
   "metadata": {},
   "outputs": [
    {
     "name": "stdout",
     "output_type": "stream",
     "text": [
      "[1, [2, 3, 4]]\n",
      "[1, [2, 3, 4]]\n"
     ]
    }
   ],
   "source": [
    "import copy\n",
    "\n",
    "original_list = [1, [2, 3]]\n",
    "shallow_copy = copy.copy(original_list)\n",
    "\n",
    "original_list[1].append(4)\n",
    "print(original_list)    # [1, [2, 3, 4]]\n",
    "print(shallow_copy)"
   ]
  },
  {
   "cell_type": "markdown",
   "id": "92a9b68b",
   "metadata": {},
   "source": [
    "copy.deepcopy() (Deep Copy):\n",
    "\n",
    "i) copy.deepcopy() creates a deep copy of an object.\n",
    "\n",
    "ii) It creates a completely independent copy of the object, including all nested objects.\n",
    "\n",
    "iii) Changes made to nested mutable objects within the copied object will not affect the original object, and vice versa.\n",
    "\n",
    "iv) It recursively copies all nested objects, ensuring that there are no shared references between the original and the copy."
   ]
  },
  {
   "cell_type": "code",
   "execution_count": 21,
   "id": "85e7fb50",
   "metadata": {},
   "outputs": [
    {
     "name": "stdout",
     "output_type": "stream",
     "text": [
      "[1, [2, 3, 4]]\n",
      "[1, [2, 3]]\n"
     ]
    }
   ],
   "source": [
    "original_list = [1, [2, 3]]\n",
    "deep_copy = copy.deepcopy(original_list)\n",
    "\n",
    "original_list[1].append(4)\n",
    "print(original_list)    # [1, [2, 3, 4]]\n",
    "print(deep_copy)   "
   ]
  },
  {
   "cell_type": "code",
   "execution_count": null,
   "id": "513e6ac3",
   "metadata": {},
   "outputs": [],
   "source": []
  }
 ],
 "metadata": {
  "kernelspec": {
   "display_name": "Python 3 (ipykernel)",
   "language": "python",
   "name": "python3"
  },
  "language_info": {
   "codemirror_mode": {
    "name": "ipython",
    "version": 3
   },
   "file_extension": ".py",
   "mimetype": "text/x-python",
   "name": "python",
   "nbconvert_exporter": "python",
   "pygments_lexer": "ipython3",
   "version": "3.11.3"
  }
 },
 "nbformat": 4,
 "nbformat_minor": 5
}
